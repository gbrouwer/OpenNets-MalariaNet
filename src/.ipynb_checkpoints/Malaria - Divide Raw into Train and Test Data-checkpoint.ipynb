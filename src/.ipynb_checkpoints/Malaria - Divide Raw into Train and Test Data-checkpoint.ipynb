{
 "cells": [
  {
   "cell_type": "markdown",
   "metadata": {},
   "source": [
    "### Import"
   ]
  },
  {
   "cell_type": "code",
   "execution_count": 1,
   "metadata": {
    "collapsed": false
   },
   "outputs": [],
   "source": [
    "%matplotlib inline\n",
    "import pandas as pd\n",
    "import numpy as np\n",
    "import sys,os,re,csv,glob,collections,itertools,pickle,datetime\n",
    "import dateutil\n",
    "import igraph\n",
    "import shapefile\n",
    "import numpy.ma as ma\n",
    "import matplotlib\n",
    "import scipy\n",
    "import matplotlib.pyplot as plt\n",
    "import matplotlib.patches as patches\n",
    "import matplotlib.colors as mcolors\n",
    "import gdal\n",
    "import scipy.io\n",
    "import matplotlib.image as mpimg"
   ]
  },
  {
   "cell_type": "markdown",
   "metadata": {},
   "source": [
    "### Divide Training / Validation Ratio"
   ]
  },
  {
   "cell_type": "code",
   "execution_count": 2,
   "metadata": {
    "collapsed": true
   },
   "outputs": [],
   "source": [
    "divideRatio = 0.8"
   ]
  },
  {
   "cell_type": "markdown",
   "metadata": {},
   "source": [
    "### Find the available files"
   ]
  },
  {
   "cell_type": "code",
   "execution_count": 3,
   "metadata": {
    "collapsed": false
   },
   "outputs": [],
   "source": [
    "#Find Available Files for Empty Patches\n",
    "nonstructure = []\n",
    "for root, dirs, files in os.walk(\"../data/malariaNet/raw/high/\", topdown=False):\n",
    "    for name in files:\n",
    "        nonstructure.append(os.path.join(root, name))\n",
    "        \n",
    "#Find Available Files for Patches with Buildings\n",
    "structure = []\n",
    "for root, dirs, files in os.walk(\"../data/malariaNet/raw/low/\", topdown=False):\n",
    "    for name in files:\n",
    "        structure.append(os.path.join(root, name))"
   ]
  },
  {
   "cell_type": "markdown",
   "metadata": {},
   "source": [
    "### Divide into train and validation"
   ]
  },
  {
   "cell_type": "code",
   "execution_count": 4,
   "metadata": {
    "collapsed": false
   },
   "outputs": [
    {
     "name": "stdout",
     "output_type": "stream",
     "text": [
      "8000\n"
     ]
    }
   ],
   "source": [
    "#What is the smallest category?\n",
    "nRaw = np.min([len(structure),len(nonstructure)])\n",
    "print nRaw"
   ]
  },
  {
   "cell_type": "code",
   "execution_count": 5,
   "metadata": {
    "collapsed": false
   },
   "outputs": [],
   "source": [
    "#Create a random permuration of the images\n",
    "randindices = np.random.permutation(nRaw)\n",
    "divider = int(np.round(nRaw*divideRatio))\n",
    "trainIndices = randindices[:divider]\n",
    "valIndices = randindices[divider:]"
   ]
  },
  {
   "cell_type": "code",
   "execution_count": 6,
   "metadata": {
    "collapsed": false
   },
   "outputs": [
    {
     "name": "stdout",
     "output_type": "stream",
     "text": [
      "[ 972  271 3449 ...,  933 1135 7696]\n"
     ]
    }
   ],
   "source": [
    "print trainIndices"
   ]
  },
  {
   "cell_type": "code",
   "execution_count": 7,
   "metadata": {
    "collapsed": false
   },
   "outputs": [],
   "source": [
    "#Delete Previous Data and create directories\n",
    "os.system('rm -rf ../data/malariaNet/train/');\n",
    "os.system('rm -rf ../data/malariaNet/val/');\n",
    "os.system('mkdir -p ../data/malariaNet/val/high')\n",
    "os.system('mkdir -p ../data/malariaNet/val/low');\n",
    "os.system('mkdir -p ../data/malariaNet/train/high');\n",
    "os.system('mkdir -p ../data/malariaNet/train/low');"
   ]
  },
  {
   "cell_type": "code",
   "execution_count": null,
   "metadata": {
    "collapsed": false
   },
   "outputs": [],
   "source": [
    "#Copy train indices images over\n",
    "for i in range(len(trainIndices)):\n",
    "    index = trainIndices[i]\n",
    "    orig = nonstructure[index]\n",
    "    dest = orig.replace('raw','train')\n",
    "    os.system('cp ' + orig + ' ' + dest)\n",
    "    orig = structure[index]\n",
    "    dest = orig.replace('raw','train')\n",
    "    os.system('cp ' + orig + ' ' + dest)"
   ]
  },
  {
   "cell_type": "code",
   "execution_count": null,
   "metadata": {
    "collapsed": true
   },
   "outputs": [],
   "source": [
    "#Copy val indices images over\n",
    "for i in range(len(valIndices)):\n",
    "    index = valIndices[i]\n",
    "    orig = nonstructure[index]\n",
    "    dest = orig.replace('raw','val')\n",
    "    os.system('cp ' + orig + ' ' + dest)\n",
    "    orig = structure[index]\n",
    "    dest = orig.replace('raw','val')\n",
    "    os.system('cp ' + orig + ' ' + dest)"
   ]
  }
 ],
 "metadata": {
  "kernelspec": {
   "display_name": "Python 2",
   "language": "python",
   "name": "python2"
  },
  "language_info": {
   "codemirror_mode": {
    "name": "ipython",
    "version": 2
   },
   "file_extension": ".py",
   "mimetype": "text/x-python",
   "name": "python",
   "nbconvert_exporter": "python",
   "pygments_lexer": "ipython2",
   "version": "2.7.10"
  }
 },
 "nbformat": 4,
 "nbformat_minor": 0
}
